{
 "cells": [
  {
   "cell_type": "code",
   "execution_count": 5,
   "metadata": {
    "collapsed": true
   },
   "outputs": [],
   "source": [
    "#!/usr/bin/env python3\n",
    "# -*- coding: utf-8 -*-\n",
    "\n",
    "import urllib.request\n",
    "import json\n",
    "\n",
    "def get_elevation(lat, lng, sensor=False):\n",
    "    \"\"\"\n",
    "    Returns the elevation of a specific location on earth using the Google\n",
    "    Maps API.\n",
    "\n",
    "    @param lat (float): The latitude of the location in degrees. Latitudes can\n",
    "    take any value between -90 and 90.\n",
    "    @param lng (float): The longitude of the location in degrees. Longitudes\n",
    "    can take any value between -180 and 180.\n",
    "    @param sensor (boolean): This parameter is required by the Google maps API\n",
    "    and indicates whether the application that requests the elevation data is\n",
    "    using a sensor (such as a GPS device). Default value is 'False'.\n",
    "\n",
    "    @return: A tuple (elevation, lat, lng, status):\n",
    "      * elevation (float): The requested elevation in meters. If the location is\n",
    "        on the sea floor the returned elevation has a negative value.\n",
    "      * lat, lng (float): The latitude and longitude of the location (for testing\n",
    "        purposes: must be equal to the input values).\n",
    "      * status (str): Error code:\n",
    "        \"OK\": the API request was successful.\n",
    "        \"INVALID_REQUEST\": the API request was malformed.\n",
    "        \"OVER_QUERY_LIMIT\": the requester has exceeded quota.\n",
    "        \"REQUEST_DENIED\": the API did not complete the request, likely because\n",
    "        of an invalid 'sensor' parameter.\n",
    "        \"UNKNOWN_ERROR\": other error\n",
    "      * If the error code 'status' is not 'OK' then all other members of the\n",
    "        returned tuple are set to 'None'.\n",
    "\n",
    "    @note: More information about the Google elevation API and its usage limits\n",
    "    can be found in https://developers.google.com/maps/documentation/elevation/.\n",
    "    \n",
    "    @example:\n",
    "    >>> round(get_elevation(-38.407, -25.297)[0], 2) == -3843.86\n",
    "    True\n",
    "    >>> round(get_elevation(37.32522, -104.98470)[0], 2) == 2934.24    \n",
    "    True\n",
    "    \"\"\"\n",
    "    ## build the url for the API call\n",
    "    ELEVATION_BASE_URL = 'http://maps.google.com/maps/api/elevation/json'\n",
    "    URL_PARAMS = \"locations=%.7f,%.7f&sensor=%s\" % (lat, lng, \"true\" if sensor else \"false\")\n",
    "    url = ELEVATION_BASE_URL + \"?\" + URL_PARAMS\n",
    "\n",
    "    ## make the call (ie. read the contents of the generated url) and decode the\n",
    "    ## result (note: the result is in json format).\n",
    "    with urllib.request.urlopen(url) as f:\n",
    "        response = json.loads(f.read().decode())\n",
    "\n",
    "    status = response[\"status\"]\n",
    "    if status == \"OK\":\n",
    "        result = response[\"results\"][0]\n",
    "        elevation = float(result[\"elevation\"])\n",
    "        lat = float(result[\"location\"][\"lat\"])\n",
    "        lng = float(result[\"location\"][\"lng\"])\n",
    "    else:\n",
    "        elevation = lat = lng = None\n",
    "    return (elevation, lat, lng, status)"
   ]
  },
  {
   "cell_type": "code",
   "execution_count": 6,
   "metadata": {
    "collapsed": true
   },
   "outputs": [],
   "source": [
    "from osmread import parse_file, Node"
   ]
  },
  {
   "cell_type": "code",
   "execution_count": 8,
   "metadata": {},
   "outputs": [
    {
     "ename": "AttributeError",
     "evalue": "'dict' object has no attribute 'append'",
     "output_type": "error",
     "traceback": [
      "\u001b[0;31m---------------------------------------------------------------------------\u001b[0m",
      "\u001b[0;31mAttributeError\u001b[0m                            Traceback (most recent call last)",
      "\u001b[0;32m<timed exec>\u001b[0m in \u001b[0;36m<module>\u001b[0;34m()\u001b[0m\n",
      "\u001b[0;31mAttributeError\u001b[0m: 'dict' object has no attribute 'append'"
     ]
    }
   ],
   "source": [
    "%%time\n",
    "\n",
    "filename = '../Data/Kronplatz_plus.osm'\n",
    "nodes = []\n",
    "for entity in parse_file(filename):\n",
    "    if isinstance(entity, Node):\n",
    "        #print(entity.id, entity.lon, entity.lat)\n",
    "        elev = get_elevation(entity.lat, entity.lon)[0]\n",
    "        node = {'id': entity.id, 'lat': entity.lat, 'lon': entity.lon, 'elevation': elev}\n",
    "        nodes.append(node)\n",
    "\n",
    "print(\"Done\")"
   ]
  },
  {
   "cell_type": "code",
   "execution_count": null,
   "metadata": {
    "collapsed": true
   },
   "outputs": [],
   "source": []
  }
 ],
 "metadata": {
  "kernelspec": {
   "display_name": "Python 3",
   "language": "python",
   "name": "python3"
  },
  "language_info": {
   "codemirror_mode": {
    "name": "ipython",
    "version": 3
   },
   "file_extension": ".py",
   "mimetype": "text/x-python",
   "name": "python",
   "nbconvert_exporter": "python",
   "pygments_lexer": "ipython3",
   "version": "3.6.3"
  }
 },
 "nbformat": 4,
 "nbformat_minor": 2
}
